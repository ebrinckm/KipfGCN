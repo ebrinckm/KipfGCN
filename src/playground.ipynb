{
 "cells": [
  {
   "cell_type": "code",
   "execution_count": 1,
   "metadata": {},
   "outputs": [],
   "source": [
    "import pickle as pkl\r\n",
    "import sys\r\n",
    "import numpy as np\r\n",
    "\r\n",
    "names = ['x', 'y', 'tx', 'ty', 'allx', 'ally', 'graph']\r\n",
    "objects = []\r\n",
    "for i in range(len(names)):\r\n",
    "    with open(\"C:/Users/yello/Documents/Fall2020Intership/Clean/gcn-master/gcn/data/ind.{}.{}\".format('Exchange', names[i]), 'rb') as f:\r\n",
    "        if sys.version_info > (3, 0):\r\n",
    "            objects.append(pkl.load(f, encoding='latin1'))\r\n",
    "        else:\r\n",
    "            objects.append(pkl.load(f))"
   ]
  },
  {
   "cell_type": "code",
   "execution_count": 2,
   "metadata": {},
   "outputs": [],
   "source": [
    "objects2 = []\r\n",
    "for i in range(len(names)):\r\n",
    "    with open(\"C:/Users/yello/Documents/Fall2020Intership/Clean/gcn-master/gcn/data/ind.{}.{}\".format('OnlyExs', names[i]), 'rb') as f:\r\n",
    "        if sys.version_info > (3, 0):\r\n",
    "            objects2.append(pkl.load(f, encoding='latin1'))\r\n",
    "        else:\r\n",
    "            objects2.append(pkl.load(f))\r\n",
    "\r\n",
    "objects3 = []\r\n",
    "for i in range(len(names)):\r\n",
    "    with open(\"C:/Users/yello/Documents/Fall2020Intership/Clean/gcn-master/gcn/data/ind.{}.{}\".format('Empty', names[i]), 'rb') as f:\r\n",
    "        if sys.version_info > (3, 0):\r\n",
    "            objects3.append(pkl.load(f, encoding='latin1'))\r\n",
    "        else:\r\n",
    "            objects3.append(pkl.load(f))"
   ]
  },
  {
   "cell_type": "code",
   "execution_count": 3,
   "metadata": {
    "tags": []
   },
   "outputs": [
    {
     "name": "stdout",
     "output_type": "stream",
     "text": [
      "x (1169631, 10)\n",
      "y (1169631, 2)\n",
      "tx (292408, 10)\n",
      "ty (292408, 2)\n",
      "allx (1169631, 10)\n",
      "ally (1169631, 2)\n",
      "====================\n",
      "x (2864, 10)\n",
      "y (1169631, 2)\n",
      "tx (292408, 10)\n",
      "ty (292408, 2)\n",
      "allx (1169631, 10)\n",
      "ally (1169631, 2)\n",
      "====================\n",
      "x (0, 0)\n",
      "y (1169631, 2)\n",
      "tx (292408, 10)\n",
      "ty (292408, 2)\n",
      "allx (1169631, 10)\n",
      "ally (1169631, 2)\n"
     ]
    }
   ],
   "source": [
    "for j in range(len(names)-1):\r\n",
    "    print(names[j], objects[j].shape)\r\n",
    "print('====================')\r\n",
    "for k in range(len(names)-1):\r\n",
    "    print(names[k], objects2[k].shape)\r\n",
    "    #print(names[k], type(objects2[k]))\r\n",
    "print('====================')\r\n",
    "for l in range(len(names)-1):\r\n",
    "    print(names[l], objects3[l].shape)\r\n",
    "    #print(names[l], type(objects3[l]))"
   ]
  },
  {
   "cell_type": "code",
   "execution_count": 5,
   "metadata": {},
   "outputs": [
    {
     "data": {
      "text/plain": [
       "3608"
      ]
     },
     "execution_count": 5,
     "metadata": {},
     "output_type": "execute_result"
    }
   ],
   "source": [
    "sum = 0\r\n",
    "for i in objects[1]:\r\n",
    "    if i[1] == 1:\r\n",
    "        sum += 1\r\n",
    "for j in objects[3]:\r\n",
    "    if j[1] == 1:\r\n",
    "        sum += 1\r\n",
    "sum"
   ]
  }
 ],
 "metadata": {
  "interpreter": {
   "hash": "d1d688591d79676ed7d41497198d1df1f5ead6c1271f3dc4dae81928b036766a"
  },
  "kernelspec": {
   "display_name": "Python 3.7.3 64-bit",
   "name": "python3"
  },
  "language_info": {
   "name": "python",
   "version": ""
  },
  "metadata": {
   "interpreter": {
    "hash": "d1d688591d79676ed7d41497198d1df1f5ead6c1271f3dc4dae81928b036766a"
   }
  },
  "orig_nbformat": 2
 },
 "nbformat": 4,
 "nbformat_minor": 2
}